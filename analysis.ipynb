{
  "nbformat": 4,
  "nbformat_minor": 0,
  "metadata": {
    "colab": {
      "private_outputs": true,
      "provenance": [],
      "cell_execution_strategy": "setup",
      "include_colab_link": true
    },
    "kernelspec": {
      "name": "python3",
      "display_name": "Python 3"
    },
    "language_info": {
      "name": "python"
    }
  },
  "cells": [
    {
      "cell_type": "markdown",
      "metadata": {
        "id": "view-in-github",
        "colab_type": "text"
      },
      "source": [
        "<a href=\"https://colab.research.google.com/github/tsega19/kf_solar-insights-analysis_0/blob/main/analysis.ipynb\" target=\"_parent\"><img src=\"https://colab.research.google.com/assets/colab-badge.svg\" alt=\"Open In Colab\"/></a>"
      ]
    },
    {
      "cell_type": "markdown",
      "source": [
        "Explaroty Date Analysis"
      ],
      "metadata": {
        "id": "CxgpzMS-Ndl_"
      }
    },
    {
      "cell_type": "code",
      "execution_count": null,
      "metadata": {
        "id": "is_PAsGvNRfI"
      },
      "outputs": [],
      "source": [
        "# import library\n",
        "import pandas as pd\n",
        "import numpy as np\n",
        "import matplotlib.pyplot as plt\n",
        "import seaborn as sns\n",
        "from scipy.stats import zscore"
      ]
    },
    {
      "cell_type": "code",
      "source": [
        "# import dataset\n",
        "file_path = 'benin-malanville.csv'\n",
        "data = pd.read_csv(file_path)"
      ],
      "metadata": {
        "id": "iElV5WdmN10r"
      },
      "execution_count": null,
      "outputs": []
    },
    {
      "cell_type": "code",
      "source": [
        "# Display dataset info\n",
        "print(\"Dataset Overview\")\n",
        "print(data.info())\n",
        "print(\"\\nFirst 5 rows of the dataset\")\n",
        "print(data.head())"
      ],
      "metadata": {
        "id": "tqTYdIbDOJmz"
      },
      "execution_count": null,
      "outputs": []
    },
    {
      "cell_type": "code",
      "source": [
        "# check for missing value\n",
        "print(\"\\nMissing Values\")\n",
        "print(data.isnull().sum())"
      ],
      "metadata": {
        "id": "0gucVY5MPlsP"
      },
      "execution_count": null,
      "outputs": []
    },
    {
      "cell_type": "code",
      "source": [
        "# Data Quality Check: Negative values in GHI, DNI, and DHI\n",
        "print(\"\\nNegative Values Check\")\n",
        "for column in ['GHI', 'DNI', 'DHI']:\n",
        "    print(f\"{column}: {(data[column] < 0).sum()} negative values\")"
      ],
      "metadata": {
        "id": "b-RlBJbLPw6B"
      },
      "execution_count": null,
      "outputs": []
    },
    {
      "cell_type": "code",
      "source": [
        "# Summary Statistics\n",
        "print(\"\\nSummary Statistics\")\n",
        "print(data.describe())"
      ],
      "metadata": {
        "id": "Nozy0XEBaQe0"
      },
      "execution_count": null,
      "outputs": []
    },
    {
      "cell_type": "code",
      "source": [
        "# Convert Timestamp to datetime and set as index\n",
        "# Try to infer the format automatically, handling errors by coercing them to NaT (Not a Time)\n",
        "data['Timestamp'] = pd.to_datetime(data['Timestamp'], errors='coerce')\n",
        "\n",
        "# If you know the actual format of your 'Timestamp' column, replace 'infer_datetime_format=True' with format='%Y-%m-%d %H:%M:%S' for example\n",
        "# data['Timestamp'] = pd.to_datetime(data['Timestamp'], format='%Y-%m-%d %H:%M:%S', errors='coerce')\n",
        "\n",
        "data.set_index('Timestamp', inplace=True)\n",
        "\n",
        "# Check for and handle any NaT (Not a Time) values introduced due to errors\n",
        "print(\"\\nNumber of NaT values in index:\", data.index.isnull().sum())\n",
        "# If there are NaT values, you can drop them:\n",
        "# data = data[data.index.notnull()]"
      ],
      "metadata": {
        "id": "x-WzpbIQP5UU"
      },
      "execution_count": null,
      "outputs": []
    },
    {
      "cell_type": "code",
      "source": [
        "# plt each distribution of catagorical data\n",
        "plt.figure(figsize=(10, 6))\n",
        "data[['GHI', 'DNI', 'DHI']].plot()\n",
        "plt.title(\"Solar Radiation (GHI, DNI, DHI) Over Time\")\n",
        "plt.ylabel(\"Irradiance (W/m²)\")\n",
        "plt.xlabel(\"Time\")\n",
        "plt.legend()\n",
        "plt.show()\n",
        "#"
      ],
      "metadata": {
        "id": "VWvM6x_NaX6N"
      },
      "execution_count": null,
      "outputs": []
    },
    {
      "cell_type": "code",
      "source": [
        "# Monthly Averages Analysis\n",
        "data['Month'] = data.index.month\n",
        "monthly_avg = data.groupby('Month')[['GHI', 'DNI', 'DHI']].mean()\n",
        "monthly_avg.plot(kind='bar', figsize=(10, 6))\n",
        "plt.title(\"Monthly Averages of Solar Radiation\")\n",
        "plt.ylabel(\"Irradiance (W/m²)\")\n",
        "plt.xlabel(\"Month\")\n",
        "plt.xticks(ticks=range(12), labels=[\"Jan\", \"Feb\", \"Mar\", \"Apr\", \"May\", \"Jun\", \"Jul\", \"Aug\", \"Sep\", \"Oct\", \"Nov\", \"Dec\"])\n",
        "plt.show()\n"
      ],
      "metadata": {
        "id": "1LJ_--LFpntM"
      },
      "execution_count": null,
      "outputs": []
    },
    {
      "cell_type": "code",
      "source": [
        "# Correlation Matrix\n",
        "correlation_matrix = data.corr()\n",
        "plt.figure(figsize=(12, 8))\n",
        "sns.heatmap(correlation_matrix, annot=True, cmap='coolwarm', fmt='.2f')\n",
        "plt.title(\"Correlation Matrix\")\n",
        "plt.show()"
      ],
      "metadata": {
        "id": "vlDbJtgbpuyG"
      },
      "execution_count": null,
      "outputs": []
    },
    {
      "cell_type": "code",
      "source": [
        "# Distribution Analysis: Histograms for key variables\n",
        "columns_to_plot = ['GHI', 'DNI', 'DHI', 'Tamb', 'RH', 'WS']\n",
        "data[columns_to_plot].hist(bins=20, figsize=(12, 8), edgecolor='black')\n",
        "plt.suptitle(\"Histograms of Key Variables\", y=0.95)\n",
        "plt.show()"
      ],
      "metadata": {
        "id": "aEJcIa8CpwDJ"
      },
      "execution_count": null,
      "outputs": []
    },
    {
      "cell_type": "code",
      "source": [
        "# Scatter Plot: GHI vs Tamb\n",
        "plt.figure(figsize=(8, 6))\n",
        "sns.scatterplot(x='Tamb', y='GHI', data=data, alpha=0.7)\n",
        "plt.title(\"GHI vs. Ambient Temperature\")\n",
        "plt.xlabel(\"Ambient Temperature (°C)\")\n",
        "plt.ylabel(\"GHI (W/m²)\")\n",
        "plt.show()"
      ],
      "metadata": {
        "id": "dMj_r7jcp5xl"
      },
      "execution_count": null,
      "outputs": []
    },
    {
      "cell_type": "code",
      "source": [
        "# Z-Score Analysis: Outlier Detection\n",
        "data_zscore = data.select_dtypes(include=np.number)\n",
        "z_scores = np.abs(zscore(data_zscore))\n",
        "outliers = (z_scores > 3).sum(axis=0)\n",
        "print(\"\\nNumber of Outliers per Column (Z-Score > 3):\")\n",
        "print(outliers)"
      ],
      "metadata": {
        "id": "DTRmjbOLqBMU"
      },
      "execution_count": null,
      "outputs": []
    },
    {
      "cell_type": "code",
      "source": [
        "# Bubble Chart: GHI vs Tamb vs RH\n",
        "plt.figure(figsize=(10, 6))\n",
        "plt.scatter(data['GHI'], data['Tamb'], s=data['RH'], alpha=0.6)\n",
        "plt.title(\"GHI vs. Tamb vs. RH (Bubble Size: RH)\")\n",
        "plt.xlabel(\"GHI (W/m²)\")\n",
        "plt.ylabel(\"Ambient Temperature (°C)\")\n",
        "plt.colorbar(label=\"Relative Humidity (%)\")\n",
        "plt.show()\n"
      ],
      "metadata": {
        "id": "yHHwNpinqIJ3"
      },
      "execution_count": null,
      "outputs": []
    },
    {
      "cell_type": "code",
      "source": [
        "# Wind Analysis: Wind Rose Plot\n",
        "!pip install windrose\n",
        "try:\n",
        "    from windrose import WindroseAxes\n",
        "    ax = WindroseAxes.from_ax()\n",
        "    ax.bar(data['WD'], data['WS'], normed=True, opening=0.8, edgecolor='black')\n",
        "    ax.set_legend()\n",
        "    plt.title(\"Wind Speed and Direction\")\n",
        "    plt.show()\n",
        "except ImportError:\n",
        "    print(\"Windrose library not installed. Install it using: pip install windrose\")\n"
      ],
      "metadata": {
        "id": "pTZs8DazqM-N"
      },
      "execution_count": null,
      "outputs": []
    },
    {
      "cell_type": "code",
      "source": [
        "# Impact of Cleaning on ModA and ModB\n",
        "plt.figure(figsize=(12, 6))\n",
        "sns.boxplot(x='Cleaning', y='ModA', data=data)\n",
        "plt.title(\"Impact of Cleaning on Module A\")\n",
        "plt.xlabel(\"Cleaning Event (1 = Yes, 0 = No)\")\n",
        "plt.ylabel(\"ModA Reading (W/m²)\")\n",
        "plt.show()"
      ],
      "metadata": {
        "id": "2_t940jCqZFb"
      },
      "execution_count": null,
      "outputs": []
    },
    {
      "cell_type": "code",
      "source": [
        "plt.figure(figsize=(12, 6))\n",
        "sns.boxplot(x='Cleaning', y='ModB', data=data)\n",
        "plt.title(\"Impact of Cleaning on Module B\")\n",
        "plt.xlabel(\"Cleaning Event (1 = Yes, 0 = No)\")\n",
        "plt.ylabel(\"ModB Reading (W/m²)\")\n",
        "plt.show()"
      ],
      "metadata": {
        "id": "H3pNwcWrqemK"
      },
      "execution_count": null,
      "outputs": []
    }
  ]
}